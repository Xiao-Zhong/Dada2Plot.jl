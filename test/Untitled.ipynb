{
 "cells": [
  {
   "cell_type": "code",
   "execution_count": 4,
   "id": "776eccc9-6d13-42f0-b751-8c2c3993af78",
   "metadata": {
    "execution": {
     "iopub.execute_input": "2023-05-16T15:34:08.034000+08:00",
     "iopub.status.busy": "2023-05-16T15:34:08.033000+08:00",
     "iopub.status.idle": "2023-05-16T15:34:08.217000+08:00",
     "shell.execute_reply": "2023-05-16T15:34:08.217000+08:00"
    },
    "tags": []
   },
   "outputs": [
    {
     "ename": "LoadError",
     "evalue": "ArgumentError: Package Revise not found in current path.\n- Run `import Pkg; Pkg.add(\"Revise\")` to install the Revise package.",
     "output_type": "error",
     "traceback": [
      "ArgumentError: Package Revise not found in current path.\n- Run `import Pkg; Pkg.add(\"Revise\")` to install the Revise package.",
      "",
      "Stacktrace:",
      " [1] macro expansion",
      "   @ ./loading.jl:1163 [inlined]",
      " [2] macro expansion",
      "   @ ./lock.jl:223 [inlined]",
      " [3] require(into::Module, mod::Symbol)",
      "   @ Base ./loading.jl:1144"
     ]
    }
   ],
   "source": [
    "using Pkg, Revise\n",
    "Pkg.activate(\"../\")\n",
    "using Dada2Plot"
   ]
  },
  {
   "cell_type": "code",
   "execution_count": 1,
   "id": "7c1d95dd-a352-4625-bedc-fb9dc864916c",
   "metadata": {
    "execution": {
     "iopub.execute_input": "2023-05-16T15:34:03.576000+08:00",
     "iopub.status.busy": "2023-05-16T15:34:02.864000+08:00",
     "iopub.status.idle": "2023-05-16T15:34:04.967000+08:00",
     "shell.execute_reply": "2023-05-16T15:34:04.966000+08:00"
    },
    "tags": []
   },
   "outputs": [
    {
     "ename": "LoadError",
     "evalue": "UndefVarError: input2df not defined",
     "output_type": "error",
     "traceback": [
      "UndefVarError: input2df not defined",
      "",
      "Stacktrace:",
      " [1] top-level scope",
      "   @ In[1]:5"
     ]
    }
   ],
   "source": [
    "##start from input CSV files\n",
    "asv_in_file = \"dada2_asv_Immuno_8.csv\"\n",
    "taxa_in_file = \"dada2_taxa_names_Immuno_8.csv\"\n",
    "sample_in_file = \"samples2_Immuno8_v3.csv\"\n",
    "(asv_in, taxa_in, sample_in) = input2df(asv_in_file, taxa_in_file, sample_in_file);"
   ]
  },
  {
   "cell_type": "code",
   "execution_count": 2,
   "id": "987ad08f-0641-4eb2-8fc9-7d6e47db3300",
   "metadata": {
    "execution": {
     "iopub.execute_input": "2023-05-16T15:34:04.967000+08:00",
     "iopub.status.busy": "2023-05-16T15:34:04.967000+08:00",
     "iopub.status.idle": "2023-05-16T15:34:04.973000+08:00",
     "shell.execute_reply": "2023-05-16T15:34:04.970000+08:00"
    },
    "tags": []
   },
   "outputs": [
    {
     "ename": "LoadError",
     "evalue": "UndefVarError: asv_taxa_extract not defined",
     "output_type": "error",
     "traceback": [
      "UndefVarError: asv_taxa_extract not defined",
      "",
      "Stacktrace:",
      " [1] top-level scope",
      "   @ In[2]:3"
     ]
    }
   ],
   "source": [
    "##find ASV overlapping\n",
    "treatment = [\"BSF 10 + Immuno\", \"BSF 30 + Immuno\"]\n",
    "(asv_p, category_p) = asv_taxa_extract(asv_in, taxa_in, sample_in, treatment, 5, 2, \"Kingdom\", \"Bacteria\");"
   ]
  },
  {
   "cell_type": "code",
   "execution_count": 3,
   "id": "8b3eb780-8025-4966-90bf-c817c80417c7",
   "metadata": {
    "execution": {
     "iopub.execute_input": "2023-05-16T15:34:04.973000+08:00",
     "iopub.status.busy": "2023-05-16T15:34:04.973000+08:00",
     "iopub.status.idle": "2023-05-16T15:34:04.976000+08:00",
     "shell.execute_reply": "2023-05-16T15:34:04.976000+08:00"
    },
    "tags": []
   },
   "outputs": [
    {
     "ename": "LoadError",
     "evalue": "UndefVarError: venn_plot not defined",
     "output_type": "error",
     "traceback": [
      "UndefVarError: venn_plot not defined",
      "",
      "Stacktrace:",
      " [1] top-level scope",
      "   @ In[3]:2"
     ]
    }
   ],
   "source": [
    "##plot\n",
    "venn_plot(asv_p, category_p, 3, \"venn2.pdf\")"
   ]
  },
  {
   "cell_type": "code",
   "execution_count": null,
   "id": "8cef38bc-46a0-4d65-9787-2abd4478513d",
   "metadata": {},
   "outputs": [],
   "source": []
  },
  {
   "cell_type": "code",
   "execution_count": null,
   "id": "c9e93df1-7e64-4a31-a69c-1d9ad525218f",
   "metadata": {},
   "outputs": [],
   "source": []
  }
 ],
 "metadata": {
  "kernelspec": {
   "display_name": "Julia 1.8.5",
   "language": "julia",
   "name": "julia-1.8"
  },
  "language_info": {
   "file_extension": ".jl",
   "mimetype": "application/julia",
   "name": "julia",
   "version": "1.8.5"
  }
 },
 "nbformat": 4,
 "nbformat_minor": 5
}
