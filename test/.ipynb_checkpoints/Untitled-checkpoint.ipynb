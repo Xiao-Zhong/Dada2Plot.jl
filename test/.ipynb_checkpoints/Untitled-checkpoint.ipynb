{
 "cells": [
  {
   "cell_type": "code",
   "execution_count": 1,
   "id": "b839474f-a7db-40eb-b798-4fb9b6ad1853",
   "metadata": {
    "execution": {
     "iopub.execute_input": "2023-05-16T11:21:39.937000+08:00",
     "iopub.status.busy": "2023-05-16T11:21:38.973000+08:00",
     "iopub.status.idle": "2023-05-16T11:21:57.308000+08:00",
     "shell.execute_reply": "2023-05-16T11:21:57.177000+08:00"
    },
    "tags": []
   },
   "outputs": [
    {
     "name": "stderr",
     "output_type": "stream",
     "text": [
      "\u001b[36m\u001b[1m[ \u001b[22m\u001b[39m\u001b[36m\u001b[1mInfo: \u001b[22m\u001b[39mPrecompiling Dada2Plot [5bd0f725-b0fb-4f07-b8c1-69a3c87fd37e]\n"
     ]
    }
   ],
   "source": [
    "using Dada2Plot"
   ]
  },
  {
   "cell_type": "code",
   "execution_count": 2,
   "id": "ef72b754-1637-4cf6-a956-dbb3e4171b4b",
   "metadata": {
    "execution": {
     "iopub.execute_input": "2023-05-16T11:22:37.382000+08:00",
     "iopub.status.busy": "2023-05-16T11:22:36.099000+08:00",
     "iopub.status.idle": "2023-05-16T11:22:49.527000+08:00",
     "shell.execute_reply": "2023-05-16T11:22:49.464000+08:00"
    },
    "tags": []
   },
   "outputs": [],
   "source": [
    "##start from input CSV files\n",
    "asv_in_file = \"dada2_asv_Immuno_8.csv\"\n",
    "taxa_in_file = \"dada2_taxa_names_Immuno_8.csv\"\n",
    "sample_in_file =  \"samples2_Immuno8_v3.csv\"\n",
    "(asv_in, taxa_in, sample_in) = input2df(asv_in_file, taxa_in_file, sample_in_file);"
   ]
  },
  {
   "cell_type": "code",
   "execution_count": 3,
   "id": "8c1e41e7-9770-44e8-b9a7-b2bd9ce154bb",
   "metadata": {
    "execution": {
     "iopub.execute_input": "2023-05-16T11:22:51.976000+08:00",
     "iopub.status.busy": "2023-05-16T11:22:51.965000+08:00",
     "iopub.status.idle": "2023-05-16T11:23:01.966000+08:00",
     "shell.execute_reply": "2023-05-16T11:23:01.964000+08:00"
    },
    "tags": []
   },
   "outputs": [
    {
     "name": "stdout",
     "output_type": "stream",
     "text": [
      "groupby: Treatment\n",
      "#Groups:\n",
      "Any[Union{Missing, InlineStrings.String31}[InlineStrings.String31(\"FM control + Immuno\")], Union{Missing, InlineStrings.String31}[InlineStrings.String31(\"BSF 10 + Immuno\")], Union{Missing, InlineStrings.String31}[InlineStrings.String31(\"BSF 30 + Immuno\")]]\n",
      "#Number\tASVs\n",
      "40\t[\"ASV-1\", \"ASV-2\", \"ASV-3\", \"ASV-4\", \"ASV-5\", \"ASV-6\", \"ASV-10\", \"ASV-14\", \"ASV-16\", \"ASV-18\", \"ASV-20\", \"ASV-21\", \"ASV-25\", \"ASV-30\", \"ASV-32\", \"ASV-35\", \"ASV-38\", \"ASV-39\", \"ASV-41\", \"ASV-43\", \"ASV-60\", \"ASV-61\", \"ASV-67\", \"ASV-68\", \"ASV-72\", \"ASV-79\", \"ASV-80\", \"ASV-82\", \"ASV-83\", \"ASV-87\", \"ASV-95\", \"ASV-127\", \"ASV-152\", \"ASV-158\", \"ASV-171\", \"ASV-184\", \"ASV-212\", \"ASV-261\", \"ASV-388\", \"ASV-428\"]\n",
      "7\t[\"ASV-1\", \"ASV-2\", \"ASV-3\", \"ASV-5\", \"ASV-14\", \"ASV-18\", \"ASV-403\"]\n",
      "118\t[\"ASV-1\", \"ASV-2\", \"ASV-4\", \"ASV-6\", \"ASV-11\", \"ASV-14\", \"ASV-16\", \"ASV-17\", \"ASV-18\", \"ASV-20\", \"ASV-21\", \"ASV-22\", \"ASV-24\", \"ASV-26\", \"ASV-27\", \"ASV-30\", \"ASV-32\", \"ASV-34\", \"ASV-35\", \"ASV-38\", \"ASV-39\", \"ASV-41\", \"ASV-43\", \"ASV-51\", \"ASV-55\", \"ASV-60\", \"ASV-61\", \"ASV-67\", \"ASV-68\", \"ASV-71\", \"ASV-72\", \"ASV-74\", \"ASV-75\", \"ASV-79\", \"ASV-80\", \"ASV-82\", \"ASV-83\", \"ASV-85\", \"ASV-87\", \"ASV-88\", \"ASV-89\", \"ASV-92\", \"ASV-93\", \"ASV-95\", \"ASV-98\", \"ASV-106\", \"ASV-107\", \"ASV-108\", \"ASV-120\", \"ASV-123\", \"ASV-125\", \"ASV-129\", \"ASV-131\", \"ASV-132\", \"ASV-136\", \"ASV-140\", \"ASV-141\", \"ASV-146\", \"ASV-149\", \"ASV-152\", \"ASV-153\", \"ASV-154\", \"ASV-155\", \"ASV-157\", \"ASV-158\", \"ASV-159\", \"ASV-165\", \"ASV-166\", \"ASV-171\", \"ASV-174\", \"ASV-175\", \"ASV-176\", \"ASV-179\", \"ASV-180\", \"ASV-183\", \"ASV-186\", \"ASV-188\", \"ASV-189\", \"ASV-192\", \"ASV-195\", \"ASV-200\", \"ASV-204\", \"ASV-206\", \"ASV-207\", \"ASV-209\", \"ASV-212\", \"ASV-214\", \"ASV-220\", \"ASV-226\", \"ASV-230\", \"ASV-231\", \"ASV-232\", \"ASV-234\", \"ASV-237\", \"ASV-239\", \"ASV-242\", \"ASV-251\", \"ASV-267\", \"ASV-268\", \"ASV-271\", \"ASV-280\", \"ASV-284\", \"ASV-293\", \"ASV-300\", \"ASV-305\", \"ASV-307\", \"ASV-343\", \"ASV-344\", \"ASV-358\", \"ASV-361\", \"ASV-368\", \"ASV-369\", \"ASV-378\", \"ASV-437\", \"ASV-489\", \"ASV-545\", \"ASV-570\", \"ASV-625\"]\n"
     ]
    }
   ],
   "source": [
    "##find ASV overlapping\n",
    "treatment = [\"FM control + Immuno\", \"BSF 10 + Immuno\", \"BSF 30 + Immuno\"]\n",
    "(asv_p, category_p) = asv_taxa_extract(asv_in, taxa_in, sample_in, treatment, 5, 2, \"Kingdom\", \"Bacteria\");"
   ]
  },
  {
   "cell_type": "code",
   "execution_count": 1,
   "id": "879e8a20-cef3-48b0-8c8b-d912c8b308aa",
   "metadata": {
    "execution": {
     "iopub.execute_input": "2023-05-16T11:25:17.345000+08:00",
     "iopub.status.busy": "2023-05-16T11:25:16.581000+08:00",
     "iopub.status.idle": "2023-05-16T11:25:18.550000+08:00",
     "shell.execute_reply": "2023-05-16T11:25:18.549000+08:00"
    },
    "tags": []
   },
   "outputs": [
    {
     "ename": "LoadError",
     "evalue": "UndefVarError: `venn_plot` not defined",
     "output_type": "error",
     "traceback": [
      "UndefVarError: `venn_plot` not defined",
      "",
      "Stacktrace:",
      " [1] top-level scope",
      "   @ In[1]:2"
     ]
    }
   ],
   "source": [
    "##plot\n",
    "venn_plot(asv_p, category_p, 3)"
   ]
  },
  {
   "cell_type": "code",
   "execution_count": null,
   "id": "62d16ba0-80d4-4dee-877b-0cecf08a4b61",
   "metadata": {},
   "outputs": [],
   "source": []
  }
 ],
 "metadata": {
  "kernelspec": {
   "display_name": "Julia 1.9.0",
   "language": "julia",
   "name": "julia-1.9"
  },
  "language_info": {
   "file_extension": ".jl",
   "mimetype": "application/julia",
   "name": "julia",
   "version": "1.9.0"
  }
 },
 "nbformat": 4,
 "nbformat_minor": 5
}
