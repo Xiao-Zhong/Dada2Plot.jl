{
 "cells": [
  {
   "cell_type": "code",
   "execution_count": 2,
   "id": "776eccc9-6d13-42f0-b751-8c2c3993af78",
   "metadata": {
    "execution": {
     "iopub.execute_input": "2023-05-16T15:18:32.588000+08:00",
     "iopub.status.busy": "2023-05-16T15:18:32.588000+08:00",
     "iopub.status.idle": "2023-05-16T15:18:46.614000+08:00",
     "shell.execute_reply": "2023-05-16T15:18:46.497000+08:00"
    },
    "tags": []
   },
   "outputs": [
    {
     "name": "stderr",
     "output_type": "stream",
     "text": [
      "\u001b[32m\u001b[1m  Activating\u001b[22m\u001b[39m project at `~/scripts/julia/00_dev/dada2plot.jl/Dada2Plot`\n",
      "\u001b[36m\u001b[1m[ \u001b[22m\u001b[39m\u001b[36m\u001b[1mInfo: \u001b[22m\u001b[39mPrecompiling Dada2Plot [5bd0f725-b0fb-4f07-b8c1-69a3c87fd37e]\n"
     ]
    }
   ],
   "source": [
    "using Pkg, Revise\n",
    "Pkg.activate(\"../\")\n",
    "using Dada2Plot"
   ]
  },
  {
   "cell_type": "code",
   "execution_count": 8,
   "id": "7c1d95dd-a352-4625-bedc-fb9dc864916c",
   "metadata": {
    "execution": {
     "iopub.execute_input": "2023-05-16T15:20:07.264000+08:00",
     "iopub.status.busy": "2023-05-16T15:20:07.264000+08:00",
     "iopub.status.idle": "2023-05-16T15:20:07.405000+08:00",
     "shell.execute_reply": "2023-05-16T15:20:07.404000+08:00"
    },
    "tags": []
   },
   "outputs": [],
   "source": [
    "##start from input CSV files\n",
    "asv_in_file = \"dada2_asv_Immuno_8.csv\"\n",
    "taxa_in_file = \"dada2_taxa_names_Immuno_8.csv\"\n",
    "sample_in_file = \"samples2_Immuno8_v3.csv\"\n",
    "(asv_in, taxa_in, sample_in) = input2df(asv_in_file, taxa_in_file, sample_in_file);"
   ]
  },
  {
   "cell_type": "code",
   "execution_count": null,
   "id": "987ad08f-0641-4eb2-8fc9-7d6e47db3300",
   "metadata": {},
   "outputs": [],
   "source": [
    "##find ASV overlapping\n",
    "treatment = [\"BSF 10 + Immuno\", \"BSF 30 + Immuno\"]\n",
    "(asv_p, category_p) = asv_taxa_extract(asv_in, taxa_in, sample_in, treatment, 5, 2, \"Kingdom\", \"Bacteria\");"
   ]
  },
  {
   "cell_type": "code",
   "execution_count": null,
   "id": "8b3eb780-8025-4966-90bf-c817c80417c7",
   "metadata": {},
   "outputs": [],
   "source": [
    "##plot\n",
    "venn_plot(asv_p, category_p, 3, \"venn.pdf\")"
   ]
  }
 ],
 "metadata": {
  "kernelspec": {
   "display_name": "Julia 1.9.0",
   "language": "julia",
   "name": "julia-1.9"
  },
  "language_info": {
   "file_extension": ".jl",
   "mimetype": "application/julia",
   "name": "julia",
   "version": "1.9.0"
  }
 },
 "nbformat": 4,
 "nbformat_minor": 5
}
